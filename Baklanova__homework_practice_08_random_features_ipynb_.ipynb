{
 "cells": [
  {
   "cell_type": "markdown",
   "metadata": {},
   "source": [
    "                Валерия Бакланова"
   ]
  },
  {
   "cell_type": "markdown",
   "metadata": {
    "id": "RYp0bXOFK-hP"
   },
   "source": [
    "# Машинное обучение, ФКН ВШЭ\n",
    "\n",
    "## Практическое задание 8. Метод опорных векторов и аппроксимация ядер\n",
    "\n",
    "### Общая информация\n",
    "Дата выдачи: 1.10.2021\n",
    "\n",
    "Мягкий дедлайн: 17.10.2021 23:59 МСК\n",
    "\n",
    "Жесткий дедлайн: 24.10.2021 23:59 МСК (1 неделя -- минус балл)\n",
    "\n",
    "### Оценивание и штрафы\n",
    "Каждая из задач имеет определенную «стоимость» (указана в скобках около задачи). Максимальная оценка за работу (без учёта бонусов) — 10 баллов.\n",
    "\n",
    "Сдавать задание после указанного жёсткого срока сдачи нельзя. При выставлении неполного балла за задание в связи с наличием ошибок на усмотрение проверяющего предусмотрена возможность исправить работу на указанных в ответном письме условиях.\n",
    "\n",
    "Задание выполняется самостоятельно. «Похожие» решения считаются плагиатом и все задействованные студенты (в том числе те, у кого списали) не могут получить за него больше 0 баллов (подробнее о плагиате см. на странице курса). Если вы нашли решение какого-то из заданий (или его часть) в открытом источнике, необходимо указать ссылку на этот источник в отдельном блоке в конце вашей работы (скорее всего вы будете не единственным, кто это нашел, поэтому чтобы исключить подозрение в плагиате, необходима ссылка на источник).\n",
    "\n",
    "Неэффективная реализация кода может негативно отразиться на оценке.\n",
    "\n",
    "### Формат сдачи\n",
    "Загрузите решение в свой репозиторий на github и поделитесь [ссылкой на решение в форме](https://forms.gle/ZzCaqRj6bmfpSpyL7). Не забудьте дать доступ к Вашему репозиторию, что у преподавателей была возмоожность проверить работу."
   ]
  },
  {
   "cell_type": "markdown",
   "metadata": {
    "id": "vY8vT0W_K-hR"
   },
   "source": [
    "### О задании\n",
    "\n",
    "На занятиях мы подробно обсуждали метод опорных векторов (SVM). В базовой версии в нём нет чего-то особенного — мы всего лишь используем специальную функцию потерь, которая не требует устремлять отступы к бесконечности; ей достаточно, чтобы отступы были не меньше +1. Затем мы узнали, что SVM можно переписать в двойственном виде, который, позволяет заменить скалярные произведения объектов на ядра. Это будет соответствовать построению модели в новом пространстве более высокой размерности, координаты которого представляют собой нелинейные модификации исходных признаков.\n",
    "\n",
    "Ядровой SVM, к сожалению, довольно затратен по памяти (нужно хранить матрицу Грама размера $d \\times d$) и по времени (нужно решать задачу условной оптимизации с квадратичной функцией, а это не очень быстро). Мы обсуждали, что есть способы посчитать новые признаки $\\tilde \\varphi(x)$ на основе исходных так, что скалярные произведения этих новых $\\langle \\tilde \\varphi(x), \\tilde \\varphi(z) \\rangle$ приближают ядро $K(x, z)$.\n",
    "\n",
    "Мы будем исследовать аппроксимации методом Random Fourier Features (RFF, также в литературе встречается название Random Kitchen Sinks) для гауссовых ядер. Будем использовать формулы, которые немного отличаются от того, что было на лекциях (мы добавим сдвиги внутрь тригонометрических функций и будем использовать только косинусы, потому что с нужным сдвигом косинус превратится в синус):\n",
    "$$\\tilde \\varphi(x) = (\n",
    "\\cos (w_1^T x + b_1),\n",
    "\\dots,\n",
    "\\cos (w_n^T x + b_n)\n",
    "),$$\n",
    "где $w_j \\sim \\mathcal{N}(0, 1/\\sigma^2)$, $b_j \\sim U[-\\pi, \\pi]$.\n",
    "\n",
    "На новых признаках $\\tilde \\varphi(x)$ мы будем строить любую линейную модель.\n",
    "\n",
    "Можно считать, что это некоторая новая парадигма построения сложных моделей. Можно направленно искать сложные нелинейные закономерности в данных с помощью градиентного бустинга или нейронных сетей, а можно просто нагенерировать большое количество случайных нелинейных признаков и надеяться, что быстрая и простая модель (то есть линейная) сможет показать на них хорошее качество. В этом задании мы изучим, насколько работоспособна такая идея.\n",
    "\n",
    "### Алгоритм\n",
    "\n",
    "Вам потребуется реализовать следующий алгоритм:\n",
    "1. Понизить размерность выборки до new_dim с помощью метода главных компонент.\n",
    "2. Для полученной выборки оценить гиперпараметр $\\sigma^2$ с помощью эвристики (рекомендуем считать медиану не по всем парам объектов, а по случайному подмножеству из где-то миллиона пар объектов): $$\\sigma^2 = \\text{median}_{i, j = 1, \\dots, \\ell, i \\neq j} \\left\\{\\sum_{k = 1}^{d} (x_{ik} - x_{jk})^2 \\right\\}$$\n",
    "3. Сгенерировать n_features наборов весов $w_j$ и сдвигов $b_j$.\n",
    "4. Сформировать n_features новых признаков по формулам, приведённым выше.\n",
    "5. Обучить линейную модель (логистическую регрессию или SVM) на новых признаках.\n",
    "6. Повторить преобразования (PCA, формирование новых признаков) к тестовой выборке и применить модель."
   ]
  },
  {
   "cell_type": "markdown",
   "metadata": {
    "id": "N_sGunb7K-hS"
   },
   "source": [
    "Тестировать алгоритм мы будем на данных Fashion MNIST. Ниже код для их загрузки и подготовки."
   ]
  },
  {
   "cell_type": "code",
   "execution_count": 5,
   "metadata": {
    "id": "mAfVGIUvAmnH"
   },
   "outputs": [],
   "source": [
    "import numpy as np\n",
    "import pandas as pd\n",
    "\n",
    "from sklearn.preprocessing import StandardScaler\n",
    "from sklearn.decomposition import PCA\n",
    "from sklearn.svm import SVC\n",
    "from sklearn.metrics import accuracy_score\n",
    "from sklearn.metrics import roc_auc_score\n",
    "from sklearn.linear_model import LogisticRegression\n",
    "from sklearn.utils import shuffle\n",
    "from sklearn.model_selection import GridSearchCV\n",
    "from sklearn.model_selection import StratifiedKFold\n",
    "\n",
    "\n",
    "import matplotlib.pyplot as plt\n",
    "\n",
    "import time\n",
    "\n",
    "import keras\n",
    "from keras.datasets import fashion_mnist\n",
    "\n"
   ]
  },
  {
   "cell_type": "code",
   "execution_count": 6,
   "metadata": {
    "id": "YyG6dBfjK-hS"
   },
   "outputs": [],
   "source": [
    "import keras\n",
    "from keras.datasets import fashion_mnist\n",
    "(x_train_pics, y_train), (x_test_pics, y_test) = fashion_mnist.load_data()\n",
    "x_train = x_train_pics.reshape(x_train_pics.shape[0], -1)\n",
    "x_test = x_test_pics.reshape(x_test_pics.shape[0], -1)"
   ]
  },
  {
   "cell_type": "markdown",
   "metadata": {
    "id": "rJNN55F7K-hT"
   },
   "source": [
    "__Задание 1. (5 баллов)__\n",
    "\n",
    "Реализуйте алгоритм, описанный выше. Можете воспользоваться шаблоном класса ниже или написать свой интерфейс.\n",
    "\n",
    "Ваша реализация должна поддерживать следующие опции:\n",
    "1. Возможность задавать значения гиперпараметров new_dim (по умолчанию 50) и n_features (по умолчанию 1000).\n",
    "2. Возможность включать или выключать предварительное понижение размерности с помощью метода главных компонент.\n",
    "3. Возможность выбирать тип линейной модели (логистическая регрессия или SVM с линейным ядром).\n",
    "\n",
    "Протестируйте на данных Fashion MNIST, сформированных кодом выше. Если на тесте у вас получилась доля верных ответов не ниже 0.84 с гиперпараметрами по умолчанию, то вы всё сделали правильно."
   ]
  },
  {
   "cell_type": "code",
   "execution_count": 7,
   "metadata": {
    "id": "dJTBvoLKAccP"
   },
   "outputs": [],
   "source": [
    "np.random.seed(100)"
   ]
  },
  {
   "cell_type": "code",
   "execution_count": 8,
   "metadata": {
    "colab": {
     "base_uri": "https://localhost:8080/"
    },
    "id": "T-UGUJGXA-sk",
    "outputId": "2d5c1ef2-78d2-400d-e45d-16b7c78dd24c"
   },
   "outputs": [
    {
     "data": {
      "text/plain": [
       "(10000, 784)"
      ]
     },
     "execution_count": 8,
     "metadata": {},
     "output_type": "execute_result"
    }
   ],
   "source": [
    "x_test.shape"
   ]
  },
  {
   "cell_type": "code",
   "execution_count": 9,
   "metadata": {
    "id": "jP8yepx8K-hT"
   },
   "outputs": [],
   "source": [
    "from sklearn.base import BaseEstimator, TransformerMixin\n",
    "\n",
    "\n",
    "class RFFPipeline(BaseEstimator, TransformerMixin):\n",
    "    def __init__(self, n_features=1000, new_dim=50, use_PCA=True, classifier='logreg'):\n",
    "        \"\"\"        \n",
    "        Implements pipeline, which consists of PCA decomposition,\n",
    "        Random Fourier Features approximation and linear classification model.\n",
    "        \n",
    "        n_features, int: amount of synthetic random features generated with RFF approximation.\n",
    "\n",
    "        new_dim, int: PCA output size.\n",
    "        \n",
    "        use_PCA, bool: whether to include PCA preprocessing.\n",
    "        \n",
    "        classifier, string: either 'svm' or 'logreg', a linear classification model to use on top of pipeline.\n",
    "        \n",
    "        Feel free to edit this template for your preferences.    \n",
    "        \"\"\"\n",
    "        self.n_features = n_features\n",
    "        self.use_PCA = use_PCA\n",
    "        self.new_dim = new_dim\n",
    "        self.classifier = classifier\n",
    "        \n",
    "    def fit(self, X, y):\n",
    "        \"\"\"\n",
    "        Fit all parts of algorithm (PCA, RFF, Classification) to training set.\n",
    "        \"\"\"\n",
    "        # Your code here: (￣▽￣)/♫•*¨*•.¸¸♪\n",
    "\n",
    "        # 1-st step. PCA \n",
    "        \n",
    "        if self.use_PCA==True:\n",
    "            self.sc = StandardScaler()\n",
    "            X_std = self.sc.fit_transform(X)\n",
    "            self.pca = PCA(n_components=self.new_dim)\n",
    "            X_pca = self.pca.fit_transform(X_std)\n",
    "            self.X_pca = X_pca\n",
    "        else:\n",
    "            self.X_pca = X\n",
    "\n",
    "        # 2-nd step. sigma\n",
    "\n",
    "        var_hat_all = np.zeros(10**6)\n",
    "        for par in range(10**6):\n",
    "            i, j = np.random.randint(low=0, high=self.X_pca.shape[0], size=2)\n",
    "\n",
    "            while i-j == 0:\n",
    "              i, j = np.random.randint(low=0, high=self.X_pca.shape[0], size=2)\n",
    "  \n",
    "\n",
    "            res = np.sum((self.X_pca[i,:] - self.X_pca[j,:]) ** 2)\n",
    "            var_hat_all[par] = res\n",
    "            \n",
    "        est_med = np.median(var_hat_all)\n",
    "        self.est_med = est_med\n",
    "\n",
    "\n",
    "        # 3-d step. generating b, W\n",
    "        \n",
    "        b = np.random.uniform(-np.pi, np.pi, size=self.n_features)\n",
    "        \n",
    "        W = np.zeros((self.X_pca.shape[1], self.n_features))\n",
    "        W[:,:] = np.random.normal(loc=0, scale=np.sqrt(1/self.est_med), size=(self.X_pca.shape[1], self.n_features))\n",
    "\n",
    "        self.W = W\n",
    "        self.b = b\n",
    "\n",
    "        # 4-th step. cos \n",
    "        \n",
    "        #new_x = np.zeros((self.X_pca.shape[0], self.n_features))\n",
    "\n",
    "        # for i in range(self.n_features):\n",
    "        #     w_i = self.W[:, i].reshape(self.new_dim, 1)\n",
    "        #     new_x[:, i] = np.cos(w_i.T.dot(self.X_pca.T) + self.b[i])\n",
    "\n",
    "        # for i in range(self.X_pca.shape[0]):\n",
    "        #     cos_i = np.cos(X_pca[i,:].dot(self.W) + self.b)\n",
    "        #     new_x[i, :] = cos_i\n",
    "\n",
    "        new_x = np.cos(self.X_pca.dot(self.W) + self.b)\n",
    "\n",
    "\n",
    "        self.sc_new = StandardScaler()\n",
    "        new_x = self.sc_new.fit_transform(new_x)\n",
    "\n",
    "        self.new_x = new_x\n",
    "\n",
    "\n",
    "        # 5-th step. Fitting logreg/SVM\n",
    "\n",
    "        if self.classifier == 'logreg':\n",
    "            clf = LogisticRegression(n_jobs=-1)\n",
    "            clf.fit(self.new_x, y)\n",
    "            self.clf = clf\n",
    "        \n",
    "        if self.classifier == 'SVM':\n",
    "            clf = SVC(kernel='linear')\n",
    "            clf.fit(self.new_x, y)\n",
    "            self.clf = clf\n",
    "        \n",
    "        return self.clf\n",
    "\n",
    "\n",
    "    def predict_proba(self, X):\n",
    "        \"\"\"\n",
    "        Apply pipeline to obtain scores for input data.\n",
    "        \"\"\"\n",
    "        if self.use_PCA==True:\n",
    "            X_test_std = self.sc.transform(X)\n",
    "            X_test_pca = self.pca.transform(X_test_std)\n",
    "            self.X_test_pca = X_test_pca\n",
    "        else:\n",
    "            self.X_test_pca = X\n",
    "\n",
    "        \n",
    "        new_x_test = np.cos(self.X_test_pca.dot(self.W) + self.b)\n",
    "\n",
    "\n",
    "        new_x_test = self.sc_new.transform(new_x_test)\n",
    "        pred_proba = self.clf.predict_proba(new_x_test)\n",
    "        \n",
    "        return pred_proba\n",
    "\n",
    "    def predict(self, X):\n",
    "        \"\"\"\n",
    "        Apply pipeline to obtain discrete predictions for input data.\n",
    "        \"\"\"\n",
    "        # Your code here: (￣▽￣)/♫•*¨*•.¸¸♪\n",
    "        \n",
    "        if self.use_PCA==True:\n",
    "            X_test_std = self.sc.transform(X)\n",
    "            X_test_pca = self.pca.transform(X_test_std)\n",
    "            self.X_test_pca = X_test_pca\n",
    "        else:\n",
    "            self.X_test_pca = X\n",
    "\n",
    "        new_x_test = np.cos(self.X_test_pca.dot(self.W) + self.b)    \n",
    "\n",
    "        new_x_test = self.sc_new.transform(new_x_test)\n",
    "        pred = self.clf.predict(new_x_test)\n",
    "        \n",
    "        return pred"
   ]
  },
  {
   "cell_type": "markdown",
   "metadata": {
    "id": "8yeLfur45kDW"
   },
   "source": [
    "#### RFF (logreg) - default"
   ]
  },
  {
   "cell_type": "code",
   "execution_count": null,
   "metadata": {
    "colab": {
     "base_uri": "https://localhost:8080/"
    },
    "id": "xAxV2uad_3e0",
    "outputId": "f2b50cc9-5a06-456c-dfeb-c3787d5ea403"
   },
   "outputs": [
    {
     "name": "stdout",
     "output_type": "stream",
     "text": [
      "--- 119.24050879478455 seconds (fit) ---\n",
      "--- 0.6603941917419434 seconds (predict) ---\n",
      "Accuracy LogReg: 0.8671\n"
     ]
    }
   ],
   "source": [
    "RFFPipe = RFFPipeline()\n",
    "\n",
    "\n",
    "start_time = time.time()\n",
    "RFFPipe.fit(x_train, y_train)\n",
    "print(\"--- %s seconds (fit) ---\" % (time.time() - start_time))\n",
    "\n",
    "\n",
    "start_time = time.time()\n",
    "preds = RFFPipe.predict(x_test)\n",
    "print(\"--- %s seconds (predict) ---\" % (time.time() - start_time))\n",
    "\n",
    "\n",
    "print('Accuracy LogReg: {}'.format(accuracy_score(y_test, preds)))"
   ]
  },
  {
   "cell_type": "markdown",
   "metadata": {},
   "source": [
    "#### 0.8671 > 0.84 => все ок!"
   ]
  },
  {
   "cell_type": "markdown",
   "metadata": {
    "id": "HYqQUEi-K-hU"
   },
   "source": [
    "__Задание 2. (3 балла)__\n",
    "\n",
    "Сравните подход со случайными признаками с обучением SVM на исходных признаках. Попробуйте вариант с обычным (линейным) SVM и с ядровым SVM. Ядровой SVM может очень долго обучаться, поэтому можно делать любые разумные вещи для ускорения: брать подмножество объектов из обучающей выборки, например.\n",
    "\n",
    "Сравните подход со случайными признаками с вариантом, в котором вы понижаете размерность с помощью PCA и обучаете градиентный бустинг. Используйте одну из реализаций CatBoost/LightGBM/XGBoost, не забудьте подобрать число деревьев и длину шага.\n",
    "\n",
    "Сделайте выводы — насколько идея со случайными признаками работает? Сравните как с точки зрения качества, так и с точки зрения скорости обучения и применения."
   ]
  },
  {
   "cell_type": "markdown",
   "metadata": {},
   "source": [
    "### 1."
   ]
  },
  {
   "cell_type": "code",
   "execution_count": 13,
   "metadata": {
    "id": "sK9tGEIv0zfE"
   },
   "outputs": [],
   "source": [
    "# Сгенерируем случайную выборку из трейна для уменьшения времени расчетов\n",
    "\n",
    "x_sub, y_sub = shuffle(x_train, y_train)\n",
    "x_sub_n, y_sub_n = x_sub[:10000], y_sub[:10000]"
   ]
  },
  {
   "cell_type": "markdown",
   "metadata": {
    "id": "pi-7Goz_ufM5"
   },
   "source": [
    "#### RFF (logreg)"
   ]
  },
  {
   "cell_type": "code",
   "execution_count": null,
   "metadata": {
    "colab": {
     "base_uri": "https://localhost:8080/"
    },
    "id": "6z6DolYtuez9",
    "outputId": "2c90b5fd-fda2-4758-9ef0-d81ff5367d46"
   },
   "outputs": [
    {
     "name": "stdout",
     "output_type": "stream",
     "text": [
      "--- 69.50981092453003 seconds (fit) ---\n",
      "--- 0.6125786304473877 seconds (predict) ---\n",
      "Accuracy RFF(LogReg): 0.84\n"
     ]
    }
   ],
   "source": [
    "RFFPipe = RFFPipeline()\n",
    "\n",
    "\n",
    "start_time = time.time()\n",
    "RFFPipe.fit(x_sub_n, y_sub_n)\n",
    "print(\"--- %s seconds (fit) ---\" % (time.time() - start_time))\n",
    "\n",
    "\n",
    "start_time = time.time()\n",
    "preds = RFFPipe.predict(x_test)\n",
    "print(\"--- %s seconds (predict) ---\" % (time.time() - start_time))\n",
    "\n",
    "\n",
    "print('Accuracy RFF(LogReg): {}'.format(accuracy_score(y_test, preds)))"
   ]
  },
  {
   "cell_type": "markdown",
   "metadata": {
    "id": "uPP0yFpB1hg1"
   },
   "source": [
    "#### RFF (SVM)"
   ]
  },
  {
   "cell_type": "code",
   "execution_count": null,
   "metadata": {
    "colab": {
     "base_uri": "https://localhost:8080/"
    },
    "id": "pHATQb0_1j3B",
    "outputId": "87672126-4db4-4b9e-da07-546e010a5407"
   },
   "outputs": [
    {
     "name": "stdout",
     "output_type": "stream",
     "text": [
      "--- 86.32675409317017 seconds (fit) ---\n",
      "--- 40.05028009414673 seconds (predict) ---\n",
      "Accuracy RFF(SVM): 0.8297\n"
     ]
    }
   ],
   "source": [
    "RFFPipe_SVM = RFFPipeline(classifier='SVM')\n",
    "\n",
    "start_time = time.time()\n",
    "RFFPipe_SVM.fit(x_sub_n, y_sub_n)\n",
    "print(\"--- %s seconds (fit) ---\" % (time.time() - start_time))\n",
    "\n",
    "\n",
    "start_time = time.time()\n",
    "preds = RFFPipe_SVM.predict(x_test)\n",
    "print(\"--- %s seconds (predict) ---\" % (time.time() - start_time))\n",
    "\n",
    "\n",
    "print('Accuracy RFF(SVM): {}'.format(accuracy_score(y_test, preds)))"
   ]
  },
  {
   "cell_type": "markdown",
   "metadata": {
    "id": "aRzyFSkf1MTJ"
   },
   "source": [
    "#### Линейный SVM"
   ]
  },
  {
   "cell_type": "code",
   "execution_count": null,
   "metadata": {
    "colab": {
     "base_uri": "https://localhost:8080/"
    },
    "id": "OAb0EUchzLqQ",
    "outputId": "13114c62-a099-4a19-d4dc-a8c1324f3aa8"
   },
   "outputs": [
    {
     "name": "stdout",
     "output_type": "stream",
     "text": [
      "--- 34.361106395721436 seconds (fit) ---\n",
      "--- 32.75301933288574 seconds (predict) ---\n",
      "Accuracy LinearSVM: 0.7892\n"
     ]
    }
   ],
   "source": [
    "LinearSVM = SVC(kernel='linear')\n",
    "\n",
    "start_time = time.time()\n",
    "LinearSVM.fit(x_sub_n, y_sub_n)\n",
    "print(\"--- %s seconds (fit) ---\" % (time.time() - start_time))\n",
    "\n",
    "start_time = time.time()\n",
    "preds = LinearSVM.predict(x_test)\n",
    "print(\"--- %s seconds (predict) ---\" % (time.time() - start_time))\n",
    "\n",
    "print('Accuracy LinearSVM: {}'.format(accuracy_score(y_test, preds)))"
   ]
  },
  {
   "cell_type": "markdown",
   "metadata": {
    "id": "q8znI74P1PsS"
   },
   "source": [
    "#### Ядровой SVM"
   ]
  },
  {
   "cell_type": "code",
   "execution_count": null,
   "metadata": {
    "colab": {
     "base_uri": "https://localhost:8080/"
    },
    "id": "b7nVEMnjzLxZ",
    "outputId": "6b3619d7-1fea-4a1e-c23e-c0ef6c4b0d5d"
   },
   "outputs": [
    {
     "name": "stdout",
     "output_type": "stream",
     "text": [
      "--- 26.033186674118042 seconds (fit) ---\n",
      "--- 42.71866488456726 seconds (predict) ---\n",
      "Accuracy KernelSVM: 0.8195\n"
     ]
    }
   ],
   "source": [
    "KernelSVM = SVC(kernel='poly')\n",
    "\n",
    "start_time = time.time()\n",
    "KernelSVM.fit(x_sub_n, y_sub_n)\n",
    "print(\"--- %s seconds (fit) ---\" % (time.time() - start_time))\n",
    "\n",
    "start_time = time.time()\n",
    "preds = KernelSVM.predict(x_test)\n",
    "print(\"--- %s seconds (predict) ---\" % (time.time() - start_time))\n",
    "\n",
    "\n",
    "print('Accuracy KernelSVM: {}'.format(accuracy_score(y_test, preds)))"
   ]
  },
  {
   "cell_type": "markdown",
   "metadata": {},
   "source": [
    "#### Вывод по качеству моделей: RFF (logreg) > RFF (SVM) > Ядровой SVM > Линейный SVM. "
   ]
  },
  {
   "cell_type": "markdown",
   "metadata": {},
   "source": [
    "#### Вывод по времени обучения: подход со случайными признаками обучается в 2 раза дольше, чем SVM на исходных признаках."
   ]
  },
  {
   "cell_type": "markdown",
   "metadata": {},
   "source": [
    "### 2."
   ]
  },
  {
   "cell_type": "markdown",
   "metadata": {
    "id": "iMPpVNTm1zcr"
   },
   "source": [
    "#### LightGBM"
   ]
  },
  {
   "cell_type": "code",
   "execution_count": null,
   "metadata": {
    "id": "_ZAJAQwP55Cf"
   },
   "outputs": [],
   "source": [
    "from lightgbm import LGBMClassifier"
   ]
  },
  {
   "cell_type": "code",
   "execution_count": null,
   "metadata": {
    "id": "FIMWyeSv2Ez1"
   },
   "outputs": [],
   "source": [
    "sc = StandardScaler()\n",
    "x_train_std = sc.fit_transform(x_train)\n",
    "pca = PCA(n_components=50)\n",
    "x_train_pca = pca.fit_transform(x_train_std)\n",
    "\n",
    "\n",
    "x_test_std = sc.transform(x_test)\n",
    "x_test_pca = pca.transform(x_test_std)\n"
   ]
  },
  {
   "cell_type": "code",
   "execution_count": null,
   "metadata": {
    "id": "xXqMQxKv0s9i"
   },
   "outputs": [],
   "source": [
    "\n",
    "parameters = {\n",
    "              'max_depth': [4, 6, 8],\n",
    "              'learning_rate': [0.05, 0.1, 0.15],\n",
    "              'n_estimators': [80, 100, 120]\n",
    "}"
   ]
  },
  {
   "cell_type": "code",
   "execution_count": null,
   "metadata": {
    "colab": {
     "base_uri": "https://localhost:8080/"
    },
    "id": "YqW1PGPT3ZCj",
    "outputId": "bf480c04-635b-49e5-b57b-391ccfd830b4"
   },
   "outputs": [
    {
     "data": {
      "text/plain": [
       "GridSearchCV(cv=3, error_score=nan,\n",
       "             estimator=LGBMClassifier(boosting_type='gbdt', class_weight=None,\n",
       "                                      colsample_bytree=1.0,\n",
       "                                      importance_type='split',\n",
       "                                      learning_rate=0.1, max_depth=-1,\n",
       "                                      min_child_samples=20,\n",
       "                                      min_child_weight=0.001,\n",
       "                                      min_split_gain=0.0, n_estimators=100,\n",
       "                                      n_jobs=-1, num_leaves=31, objective=None,\n",
       "                                      random_state=None, reg_alpha=0.0,\n",
       "                                      reg_lambda=0.0, silent=True,\n",
       "                                      subsample=1.0, subsample_for_bin=200000,\n",
       "                                      subsample_freq=0),\n",
       "             iid='deprecated', n_jobs=None,\n",
       "             param_grid={'learning_rate': [0.05, 0.1, 0.15],\n",
       "                         'max_depth': [4, 6, 8],\n",
       "                         'n_estimators': [80, 100, 120]},\n",
       "             pre_dispatch='2*n_jobs', refit=True, return_train_score=False,\n",
       "             scoring='accuracy', verbose=0)"
      ]
     },
     "execution_count": 20,
     "metadata": {},
     "output_type": "execute_result"
    }
   ],
   "source": [
    "model = LGBMClassifier()\n",
    "gsearch = GridSearchCV(model, param_grid=parameters, scoring='accuracy', cv=3)\n",
    "gsearch.fit(x_train_pca, y_train)\n"
   ]
  },
  {
   "cell_type": "code",
   "execution_count": null,
   "metadata": {
    "colab": {
     "base_uri": "https://localhost:8080/"
    },
    "id": "FzcKJ2Gv4ZId",
    "outputId": "a13c069e-d71c-4407-f0e8-236cde491f3f"
   },
   "outputs": [
    {
     "data": {
      "text/plain": [
       "(0.8676333333333334,\n",
       " {'learning_rate': 0.15, 'max_depth': 8, 'n_estimators': 120})"
      ]
     },
     "execution_count": 23,
     "metadata": {},
     "output_type": "execute_result"
    }
   ],
   "source": [
    "gsearch.best_score_, gsearch.best_params_"
   ]
  },
  {
   "cell_type": "code",
   "execution_count": null,
   "metadata": {
    "colab": {
     "base_uri": "https://localhost:8080/"
    },
    "id": "C-D5v03O0I1P",
    "outputId": "2674120f-1cb4-44d5-ec83-76386f9ed34c"
   },
   "outputs": [
    {
     "name": "stdout",
     "output_type": "stream",
     "text": [
      "--- 31.076138973236084 seconds (fit) ---\n",
      "--- 0.7473199367523193 seconds (predict) ---\n",
      "Accuracy lightGBM: 0.8612\n"
     ]
    }
   ],
   "source": [
    "model = LGBMClassifier( max_depth=8, learning_rate = 0.15, n_estimators = 120)\n",
    "start_time = time.time()\n",
    "model.fit(x_train_pca, y_train)\n",
    "print(\"--- %s seconds (fit) ---\" % (time.time() - start_time))\n",
    "\n",
    "start_time = time.time()\n",
    "preds = model.predict(x_test_pca)\n",
    "print(\"--- %s seconds (predict) ---\" % (time.time() - start_time))\n",
    "\n",
    "print('Accuracy lightGBM: {}'.format(accuracy_score(y_test, preds)))"
   ]
  },
  {
   "cell_type": "markdown",
   "metadata": {},
   "source": [
    "#### В 1-ом задании у RFF (logreg) на всем трейне получилось accuracy = 0.8671 - практически аналогично результатам lightGBM! Однако RFF (logreg) работает дольше: обучение заняло 120 секунд против 31 секунды у бустинга."
   ]
  },
  {
   "cell_type": "markdown",
   "metadata": {},
   "source": [
    "### Общий вывод: RFF показывает немного лучшее качество, однако требует значительные временные затраты на обучение."
   ]
  },
  {
   "cell_type": "markdown",
   "metadata": {
    "id": "e6umjhWuK-hV"
   },
   "source": [
    "__Задание 3. (2 балла)__\n",
    "\n",
    "Проведите эксперименты:\n",
    "1. Помогает ли предварительное понижение размерности с помощью PCA? \n",
    "2. Как зависит итоговое качество от n_features? Выходит ли оно на плато при росте n_features?\n",
    "3. Важно ли, какую модель обучать — логистическую регрессию или SVM?"
   ]
  },
  {
   "cell_type": "markdown",
   "metadata": {
    "id": "RlYm3k-36i9L"
   },
   "source": [
    "#### 1. RFF (logreg, no PCA)"
   ]
  },
  {
   "cell_type": "code",
   "execution_count": 14,
   "metadata": {
    "colab": {
     "base_uri": "https://localhost:8080/"
    },
    "id": "c2QIHIMbK-hW",
    "outputId": "e011811f-7bc1-49e3-dc7e-693d8da94e2e"
   },
   "outputs": [
    {
     "name": "stdout",
     "output_type": "stream",
     "text": [
      "--- 47.15490770339966 seconds (fit) ---\n",
      "--- 0.9500048160552979 seconds (predict) ---\n",
      "Accuracy LogReg (no PCA): 0.1048\n"
     ]
    }
   ],
   "source": [
    "# Your code here: (￣▽￣)/♫•*¨*•.¸¸♪\n",
    "\n",
    "RFFPipe = RFFPipeline(use_PCA=False)\n",
    "\n",
    "\n",
    "start_time = time.time()\n",
    "RFFPipe.fit(x_train, y_train)\n",
    "print(\"--- %s seconds (fit) ---\" % (time.time() - start_time))\n",
    "\n",
    "\n",
    "start_time = time.time()\n",
    "preds = RFFPipe.predict(x_test)\n",
    "print(\"--- %s seconds (predict) ---\" % (time.time() - start_time))\n",
    "\n",
    "\n",
    "print('Accuracy LogReg (no PCA): {}'.format(accuracy_score(y_test, preds)))"
   ]
  },
  {
   "cell_type": "markdown",
   "metadata": {},
   "source": [
    "#### Получили очень низкое качество. Модель с предварительным использованием PCA работает в разы лучше."
   ]
  },
  {
   "cell_type": "markdown",
   "metadata": {
    "id": "UXLrngpr8fIZ"
   },
   "source": [
    "#### 2. n_features"
   ]
  },
  {
   "cell_type": "code",
   "execution_count": 45,
   "metadata": {
    "id": "ryzZ0X-J8eeR"
   },
   "outputs": [],
   "source": [
    "n_features = np.array(range(100, 1600, 100))\n",
    "accuracy = np.zeros(len(n_features))"
   ]
  },
  {
   "cell_type": "code",
   "execution_count": 46,
   "metadata": {
    "id": "a5f6BN3d9Bcz"
   },
   "outputs": [],
   "source": [
    "for j, i in enumerate(n_features):\n",
    "    RFFPipe = RFFPipeline(n_features=i)\n",
    "    RFFPipe.fit(x_sub_n, y_sub_n)\n",
    "    preds = RFFPipe.predict(x_test)\n",
    "    accuracy[j]= accuracy_score(y_test, preds)"
   ]
  },
  {
   "cell_type": "code",
   "execution_count": 56,
   "metadata": {
    "colab": {
     "base_uri": "https://localhost:8080/",
     "height": 286
    },
    "id": "9R4ybU8T9CDT",
    "outputId": "4adf74db-1a1d-495e-8857-9c4fa1dc2940"
   },
   "outputs": [
    {
     "data": {
      "image/png": "[encoded data removed]",
      "text/plain": [
       "<Figure size 432x288 with 1 Axes>"
      ]
     },
     "metadata": {},
     "output_type": "display_data"
    }
   ],
   "source": [
    "plt.style.use('ggplot')\n",
    "plt.scatter(x = n_features, y = accuracy)\n",
    "plt.ylabel('accuracy')\n",
    "plt.xlabel('n_features')\n",
    "plt.yticks(np.arange(0.81, 0.86,0.005))\n",
    "plt.show()"
   ]
  },
  {
   "cell_type": "markdown",
   "metadata": {},
   "source": [
    "### С ростом  n_features растет качество, однако оно выходит на плато, начиная с n_features = 400."
   ]
  },
  {
   "cell_type": "markdown",
   "metadata": {
    "id": "e_ea-y7MBPA6"
   },
   "source": [
    "#### 3. Logreg VS SVM"
   ]
  },
  {
   "cell_type": "code",
   "execution_count": 21,
   "metadata": {
    "id": "ebHUombiBReu"
   },
   "outputs": [],
   "source": [
    "n_feat = np.array(range(1000, 1600, 100))\n",
    "acc_svm = np.zeros(len(n_feat))\n",
    "\n",
    "for j, i in enumerate(n_feat):\n",
    "  \n",
    "    RFFPipe = RFFPipeline(n_features=i, classifier='SVM')\n",
    "    RFFPipe.fit(x_sub_n, y_sub_n)\n",
    "    preds = RFFPipe.predict(x_test)\n",
    "    acc_svm[j] = accuracy_score(y_test, preds)"
   ]
  },
  {
   "cell_type": "code",
   "execution_count": 64,
   "metadata": {
    "colab": {
     "base_uri": "https://localhost:8080/"
    },
    "id": "Dl2356ulCoY0",
    "outputId": "bdf0f9da-fe12-4545-89ee-922bb7456816"
   },
   "outputs": [
    {
     "name": "stdout",
     "output_type": "stream",
     "text": [
      "Accuracy LogReg with different n_features: [0.8447 0.841  0.8419 0.8415 0.8435 0.8424]\n",
      "Accuracy SVM with different n_features: [0.8317, 0.83, 0.8292, 0.8303, 0.8297, 0.8284]\n"
     ]
    }
   ],
   "source": [
    "print('Accuracy LogReg with different n_features: {}'.format(accuracy[-6:]))\n",
    "print('Accuracy SVM with different n_features: {}'.format(acc_svm))"
   ]
  },
  {
   "cell_type": "markdown",
   "metadata": {},
   "source": [
    "### Решила сравнить модели с разным числом n_features для достоверности результата. Вывод: обе модели показывают достойное качество, однако accuracy больше в случае использования логистической регрессии + она менее времязатратная."
   ]
  },
  {
   "cell_type": "markdown",
   "metadata": {
    "id": "CJqXVuasK-hW"
   },
   "source": [
    "### Бонус"
   ]
  },
  {
   "cell_type": "markdown",
   "metadata": {
    "id": "QVDWHCdrK-hX"
   },
   "source": [
    "__Задание 4. (Максимум 2 балла)__\n",
    "\n",
    "Как вы, должно быть, помните с курса МО-1, многие алгоритмы машинного обучения работают лучше, если признаки данных некоррелированы. Оказывается, что для RFF существует модификация, позволяющая получать ортогональные случайные признаки (Orthogonal Random Features, ORF). Об этом методе можно прочитать в [статье](https://proceedings.neurips.cc/paper/2016/file/53adaf494dc89ef7196d73636eb2451b-Paper.pdf). Реализуйте класс для вычисления ORF по аналогии с основным заданием. Обратите внимание, что ваш класс должен уметь работать со случаем n_features > new_dim (в статье есть замечание на этот счет). Проведите эксперименты, сравнивающие RFF и ORF, сделайте выводы."
   ]
  },
  {
   "cell_type": "code",
   "execution_count": 80,
   "metadata": {
    "id": "veQ40dt-5npU"
   },
   "outputs": [],
   "source": [
    "import scipy\n",
    "import scipy.linalg"
   ]
  },
  {
   "cell_type": "code",
   "execution_count": 210,
   "metadata": {
    "id": "IvhYq_IuMdFn"
   },
   "outputs": [],
   "source": [
    "# Your code here: (￣▽￣)/♫•*¨*•.¸¸♪\n",
    "\n",
    "\n",
    "from sklearn.base import BaseEstimator, TransformerMixin\n",
    "\n",
    "\n",
    "class RFFPipeline_ORF(BaseEstimator, TransformerMixin):\n",
    "    def __init__(self, n_features=1000, new_dim=50, use_PCA=True, classifier='logreg'):\n",
    "        \"\"\"        \n",
    "        Implements pipeline, which consists of PCA decomposition,\n",
    "        Random Fourier Features approximation and linear classification model.\n",
    "        \n",
    "        n_features, int: amount of synthetic random features generated with RFF approximation.\n",
    "\n",
    "        new_dim, int: PCA output size.\n",
    "        \n",
    "        use_PCA, bool: whether to include PCA preprocessing.\n",
    "        \n",
    "        classifier, string: either 'svm' or 'logreg', a linear classification model to use on top of pipeline.\n",
    "        \n",
    "        Feel free to edit this template for your preferences.    \n",
    "        \"\"\"\n",
    "        self.n_features = n_features\n",
    "        self.use_PCA = use_PCA\n",
    "        self.new_dim = new_dim\n",
    "        self.classifier = classifier\n",
    "        \n",
    "    def fit(self, X, y):\n",
    "        \"\"\"\n",
    "        Fit all parts of algorithm (PCA, RFF, Classification) to training set.\n",
    "        \"\"\"\n",
    "        # Your code here: (￣▽￣)/♫•*¨*•.¸¸♪\n",
    "\n",
    "        # 1-st step. PCA \n",
    "        \n",
    "        if self.use_PCA==True:\n",
    "            self.sc = StandardScaler()\n",
    "            X_std = self.sc.fit_transform(X)\n",
    "            self.pca = PCA(n_components=self.new_dim)\n",
    "            X_pca = self.pca.fit_transform(X_std)\n",
    "            self.X_pca = X_pca\n",
    "        else:\n",
    "            self.X_pca = X\n",
    "\n",
    "        # 2-nd step. sigma\n",
    "\n",
    "        var_hat_all = np.zeros(10**6)\n",
    "        for par in range(10**6):\n",
    "            i, j = np.random.randint(low=0, high=self.X_pca.shape[0], size=2)\n",
    "\n",
    "            while i-j == 0:\n",
    "              i, j = np.random.randint(low=0, high=self.X_pca.shape[0], size=2)\n",
    "  \n",
    "\n",
    "            res = np.sum((self.X_pca[i,:] - self.X_pca[j,:]) ** 2)\n",
    "            var_hat_all[par] = res\n",
    "            \n",
    "        est_med = np.median(var_hat_all)\n",
    "        self.est_med = est_med\n",
    "\n",
    "\n",
    "        # 3-d step. generating b, W\n",
    "        \n",
    "        # ******** W *********\n",
    "\n",
    "        if self.n_features == self.X_pca.shape[1]:\n",
    "\n",
    "          G = np.zeros((self.X_pca.shape[1], self.X_pca.shape[1]))\n",
    "          G[:,:] = np.random.normal(loc=0, scale=1, size=(self.X_pca.shape[1], self.X_pca.shape[1]))\n",
    "          self.G = G\n",
    "\n",
    "          Q = scipy.linalg.qr(G)[0]\n",
    "          self.Q = Q\n",
    "\n",
    "          S = np.zeros((self.X_pca.shape[1], self.X_pca.shape[1]))\n",
    "          diagonal = [np.random.chisquare(df=self.X_pca.shape[1]) for i in range(self.X_pca.shape[1])] \n",
    "          np.fill_diagonal(S, diagonal)\n",
    "          self.S = S\n",
    "\n",
    "          W = np.sqrt(1/self.est_med) * self.S.dot(self.Q) \n",
    "\n",
    "        if self.n_features < self.X_pca.shape[1]:\n",
    "\n",
    "          G = np.zeros((self.X_pca.shape[1], self.X_pca.shape[1]))\n",
    "          G[:,:] = np.random.normal(loc=0, scale=1, size=(self.X_pca.shape[1], self.X_pca.shape[1]))\n",
    "          self.G = G\n",
    "\n",
    "          Q = scipy.linalg.qr(G)[0]\n",
    "          self.Q = Q\n",
    "\n",
    "          S = np.zeros((self.X_pca.shape[1], self.X_pca.shape[1]))\n",
    "          diagonal = [np.random.chisquare(df=self.X_pca.shape[1]) for i in range(self.X_pca.shape[1])] \n",
    "          np.fill_diagonal(S, diagonal)\n",
    "          self.S = S\n",
    "\n",
    "          W = np.sqrt(1/self.est_med) * self.S.dot(self.Q) \n",
    "          W = W[:, :self.n_features]\n",
    "\n",
    "\n",
    "        if self.n_features > self.X_pca.shape[1]:\n",
    "\n",
    "          zeloe = self.n_features // self.X_pca.shape[1]\n",
    "          ostatok = self.n_features % self.X_pca.shape[1]    \n",
    "          \n",
    "          W = [0 for i in range(zeloe + min(1,ostatok))]\n",
    "\n",
    "          for i in range(zeloe):\n",
    "\n",
    "            G = np.zeros((self.X_pca.shape[1], self.X_pca.shape[1]))\n",
    "            G[:,:] = np.random.normal(loc=0, scale=1, size=(self.X_pca.shape[1], self.X_pca.shape[1]))\n",
    "            self.G = G\n",
    "\n",
    "            Q = scipy.linalg.qr(G)[0]\n",
    "            self.Q = Q\n",
    "\n",
    "            S = np.zeros((self.X_pca.shape[1], self.X_pca.shape[1]))\n",
    "            diagonal = [np.random.chisquare(df=self.X_pca.shape[1]) for i in range(self.X_pca.shape[1])] \n",
    "            np.fill_diagonal(S, diagonal)\n",
    "            self.S = S\n",
    "\n",
    "            W[i] = np.sqrt(1/self.est_med) * self.S.dot(self.Q)  \n",
    "      \n",
    "          if ostatok != 0:\n",
    "\n",
    "            G = np.zeros((self.X_pca.shape[1], self.X_pca.shape[1]))\n",
    "            G[:,:] = np.random.normal(loc=0, scale=1, size=(self.X_pca.shape[1], self.X_pca.shape[1]))\n",
    "            self.G = G\n",
    "\n",
    "            Q = scipy.linalg.qr(G)[0]\n",
    "            self.Q = Q\n",
    "\n",
    "            S = np.zeros((self.X_pca.shape[1], self.X_pca.shape[1]))\n",
    "            diagonal = [np.random.chisquare(df=self.X_pca.shape[1]) for i in range(self.X_pca.shape[1])] \n",
    "            np.fill_diagonal(S, diagonal)\n",
    "            self.S = S\n",
    "\n",
    "            W_small = np.sqrt(1/self.est_med) * self.S.dot(self.Q) \n",
    "            \n",
    "            W[-1] = W_small[:, :ostatok]\n",
    "\n",
    "          \n",
    "          W_final = W[0]\n",
    "          for j in range(1,len(W)):\n",
    "\n",
    "            W_final = np.concatenate([W_final, W[j]], axis=1)\n",
    "\n",
    "          W = W_final\n",
    "\n",
    "        # ******** W *********\n",
    "\n",
    "\n",
    "        b = np.random.uniform(-np.pi, np.pi, size=self.n_features)\n",
    "\n",
    "        self.W = W\n",
    "        self.b = b\n",
    "\n",
    "        # 4-th step. cos \n",
    "\n",
    "\n",
    "        new_x = np.cos(self.X_pca.dot(self.W) + self.b)\n",
    "\n",
    "\n",
    "        self.sc_new = StandardScaler()\n",
    "        new_x = self.sc_new.fit_transform(new_x)\n",
    "\n",
    "        self.new_x = new_x\n",
    "\n",
    "\n",
    "        # 5-th step. Fitting logreg/SVM\n",
    "\n",
    "        if self.classifier == 'logreg':\n",
    "            clf = LogisticRegression(n_jobs=-1)\n",
    "            clf.fit(self.new_x, y)\n",
    "            self.clf = clf\n",
    "        \n",
    "        if self.classifier == 'SVM':\n",
    "            clf = SVC(kernel='linear')\n",
    "            clf.fit(self.new_x, y)\n",
    "            self.clf = clf\n",
    "        \n",
    "        return self.clf\n",
    "\n",
    "\n",
    "    def predict_proba(self, X):\n",
    "        \"\"\"\n",
    "        Apply pipeline to obtain scores for input data.\n",
    "        \"\"\"\n",
    "        if self.use_PCA==True:\n",
    "            X_test_std = self.sc.transform(X)\n",
    "            X_test_pca = self.pca.transform(X_test_std)\n",
    "            self.X_test_pca = X_test_pca\n",
    "        else:\n",
    "            self.X_test_pca = X\n",
    "\n",
    "        \n",
    "        new_x_test = np.cos(self.X_test_pca.dot(self.W) + self.b)\n",
    "\n",
    "\n",
    "        new_x_test = self.sc_new.transform(new_x_test)\n",
    "        pred_proba = self.clf.predict_proba(new_x_test)\n",
    "        \n",
    "        return pred_proba\n",
    "\n",
    "    def predict(self, X):\n",
    "        \"\"\"\n",
    "        Apply pipeline to obtain discrete predictions for input data.\n",
    "        \"\"\"\n",
    "        # Your code here: (￣▽￣)/♫•*¨*•.¸¸♪\n",
    "        \n",
    "        if self.use_PCA==True:\n",
    "            X_test_std = self.sc.transform(X)\n",
    "            X_test_pca = self.pca.transform(X_test_std)\n",
    "            self.X_test_pca = X_test_pca\n",
    "        else:\n",
    "            self.X_test_pca = X\n",
    "\n",
    "        new_x_test = np.cos(self.X_test_pca.dot(self.W) + self.b)    \n",
    "\n",
    "        new_x_test = self.sc_new.transform(new_x_test)\n",
    "        pred = self.clf.predict(new_x_test)\n",
    "        \n",
    "        return pred"
   ]
  },
  {
   "cell_type": "code",
   "execution_count": 217,
   "metadata": {
    "colab": {
     "base_uri": "https://localhost:8080/"
    },
    "id": "T-5AVP5bOhi8",
    "outputId": "261b034e-d72c-4386-e848-92d111f799fa"
   },
   "outputs": [
    {
     "name": "stdout",
     "output_type": "stream",
     "text": [
      "--- 247.59407496452332 seconds (fit) ---\n",
      "--- 1.9236578941345215 seconds (predict) ---\n",
      "Accuracy LogReg: 0.8251\n"
     ]
    }
   ],
   "source": [
    "RFFPipe = RFFPipeline_ORF(n_features=3500, new_dim=10)\n",
    "\n",
    "\n",
    "start_time = time.time()\n",
    "RFFPipe.fit(x_train, y_train)\n",
    "print(\"--- %s seconds (fit) ---\" % (time.time() - start_time))\n",
    "\n",
    "\n",
    "start_time = time.time()\n",
    "preds = RFFPipe.predict(x_test)\n",
    "print(\"--- %s seconds (predict) ---\" % (time.time() - start_time))\n",
    "\n",
    "\n",
    "print('Accuracy ORF(LogReg): {}'.format(accuracy_score(y_test, preds)))"
   ]
  },
  {
   "cell_type": "markdown",
   "metadata": {},
   "source": [
    "### Реализовала метод из статьи, получила хорошее, но не outstanding качество. Класс работает со всеми вариантами, в том числе для случая n_features > new_dim."
   ]
  },
  {
   "cell_type": "markdown",
   "metadata": {
    "id": "4pc7-1jmK-hY"
   },
   "source": [
    "__Задание 5. (Максимум 2 балла)__\n",
    "\n",
    "Поэкспериментируйте с функциями для вычисления новых случайных признаков. Не обязательно использовать косинус от скалярного произведения — можно брать знак от него, хэш и т.д. Придумайте побольше вариантов для генерации признаков и проверьте, не получается ли с их помощью добиваться более высокого качества. Также можете попробовать другой классификатор поверх случайных признаков, сравните результаты."
   ]
  },
  {
   "cell_type": "markdown",
   "metadata": {},
   "source": [
    "### 1. Попробуем другой способ генерации признаков "
   ]
  },
  {
   "cell_type": "markdown",
   "metadata": {},
   "source": [
    "(идея взята с просторов интернета, реализация - собственная)"
   ]
  },
  {
   "cell_type": "code",
   "execution_count": 220,
   "metadata": {
    "id": "dWj-O2vjK-hY"
   },
   "outputs": [],
   "source": [
    "# Your code here: (￣▽￣)/♫•*¨*•.¸¸♪\n",
    "from scipy.stats import cauchy, laplace"
   ]
  },
  {
   "cell_type": "code",
   "execution_count": 239,
   "metadata": {
    "id": "LlOO_7lMRsNQ"
   },
   "outputs": [],
   "source": [
    "from sklearn.base import BaseEstimator, TransformerMixin\n",
    "\n",
    "\n",
    "class RFFPipeline_5(BaseEstimator, TransformerMixin):\n",
    "    def __init__(self, n_features=1000, new_dim=200, use_PCA=True, classifier='logreg', gamma = 0.0001):\n",
    "  \n",
    "        self.n_features = n_features\n",
    "        self.new_dim = new_dim\n",
    "        self.use_PCA = use_PCA\n",
    "        self.classifier = classifier\n",
    "        self.gamma = gamma\n",
    "        \n",
    "        \n",
    "    def fit(self, X, y):\n",
    " \n",
    "        # Your code here: (￣▽￣)/♫•*¨*•.¸¸♪\n",
    "\n",
    "        # PCA \n",
    "        \n",
    "        if self.use_PCA==True:\n",
    "            self.sc = StandardScaler()\n",
    "            X_std = self.sc.fit_transform(X)\n",
    "            self.pca = PCA(n_components=self.new_dim)\n",
    "            X_pca = self.pca.fit_transform(X_std)\n",
    "            self.X_pca = X_pca\n",
    "        else:\n",
    "            self.X_pca = X\n",
    "\n",
    "        # generation of W, u\n",
    "     \n",
    "        d = self.X_pca.shape[1]\n",
    "        \n",
    "        self.W = np.sqrt(2*self.gamma)*np.random.normal(size=(self.n_features,d))\n",
    "        \n",
    "        self.u = 2*np.pi*np.random.rand(self.n_features)\n",
    "     \n",
    "        new_x = np.sqrt(2/self.n_features)*np.cos((self.X_pca.dot(self.W.T) + self.u))\n",
    "\n",
    "\n",
    "        self.sc_new = StandardScaler()\n",
    "        new_x = self.sc_new.fit_transform(new_x)\n",
    "\n",
    "        self.new_x = new_x\n",
    "\n",
    "\n",
    "        # Fitting logreg/SVM\n",
    "\n",
    "        if self.classifier == 'logreg':\n",
    "            clf = LogisticRegression(n_jobs=-1)\n",
    "            clf.fit(self.new_x, y)\n",
    "            self.clf = clf\n",
    "        \n",
    "        if self.classifier == 'SVM':\n",
    "            clf = SVC(kernel='linear')\n",
    "            clf.fit(self.new_x, y)\n",
    "            self.clf = clf\n",
    "        \n",
    "        return self.clf\n",
    "\n",
    "\n",
    "    def predict_proba(self, X):\n",
    "        \"\"\"\n",
    "        Apply pipeline to obtain scores for input data.\n",
    "        \"\"\"\n",
    "        if self.use_PCA==True:\n",
    "            X_test_std = self.sc.transform(X)\n",
    "            X_test_pca = self.pca.transform(X_test_std)\n",
    "            self.X_test_pca = X_test_pca\n",
    "        else:\n",
    "            self.X_test_pca = X\n",
    "\n",
    "      \n",
    "\n",
    "        new_x_test = np.sqrt(2/self.n_features)*np.cos((self.X_test_pca.dot(self.W.T) + self.u))\n",
    "\n",
    "        new_x_test = self.sc_new.transform(new_x_test)\n",
    "        pred_proba = self.clf.predict_proba(new_x_test)\n",
    "        \n",
    "        return pred_proba\n",
    "\n",
    "    def predict(self, X):\n",
    "        \"\"\"\n",
    "        Apply pipeline to obtain discrete predictions for input data.\n",
    "        \"\"\"\n",
    "        # Your code here: (￣▽￣)/♫•*¨*•.¸¸♪\n",
    "        \n",
    "        if self.use_PCA==True:\n",
    "            X_test_std = self.sc.transform(X)\n",
    "            X_test_pca = self.pca.transform(X_test_std)\n",
    "            self.X_test_pca = X_test_pca\n",
    "        else:\n",
    "            self.X_test_pca = X\n",
    "\n",
    "        new_x_test = np.sqrt(2/self.n_features)*np.cos((self.X_test_pca.dot(self.W.T) + self.u)) \n",
    "\n",
    "        new_x_test = self.sc_new.transform(new_x_test)\n",
    "        pred = self.clf.predict(new_x_test)\n",
    "        \n",
    "        return pred"
   ]
  },
  {
   "cell_type": "code",
   "execution_count": 245,
   "metadata": {
    "colab": {
     "base_uri": "https://localhost:8080/"
    },
    "id": "LpnXHRxeZ_ju",
    "outputId": "2e6a9b12-8c5d-4fe3-d214-9e9e09edf274"
   },
   "outputs": [
    {
     "name": "stdout",
     "output_type": "stream",
     "text": [
      "--- 65.34981632232666 seconds (fit) ---\n",
      "--- 0.8155701160430908 seconds (predict) ---\n",
      "Accuracy LogReg: 0.8707\n"
     ]
    }
   ],
   "source": [
    "RFFPipe = RFFPipeline_5()\n",
    "\n",
    "\n",
    "start_time = time.time()\n",
    "RFFPipe.fit(x_train, y_train)\n",
    "print(\"--- %s seconds (fit) ---\" % (time.time() - start_time))\n",
    "\n",
    "\n",
    "start_time = time.time()\n",
    "preds = RFFPipe.predict(x_test)\n",
    "print(\"--- %s seconds (predict) ---\" % (time.time() - start_time))\n",
    "\n",
    "\n",
    "print('Accuracy LogReg: {}'.format(accuracy_score(y_test, preds)))"
   ]
  },
  {
   "cell_type": "markdown",
   "metadata": {},
   "source": [
    "### Wow! Accuracy = 0.8707 => качество больше, чем изначально при RFF (logreg) - 0.8671 на этом же датасете."
   ]
  },
  {
   "cell_type": "markdown",
   "metadata": {
    "id": "hZbzrbqybcK_"
   },
   "source": [
    "#### 2. Вариант с другим классификатором (SGD):"
   ]
  },
  {
   "cell_type": "code",
   "execution_count": 242,
   "metadata": {
    "id": "lFGZGebdUUUk"
   },
   "outputs": [],
   "source": [
    "from sklearn.base import BaseEstimator, TransformerMixin\n",
    "\n",
    "from sklearn.linear_model import SGDClassifier\n",
    "\n",
    "class RFFPipeline_SGD(BaseEstimator, TransformerMixin):\n",
    "    def __init__(self, n_features=1000, new_dim=50, use_PCA=True, classifier='SGD'):\n",
    "        \"\"\"        \n",
    "        Implements pipeline, which consists of PCA decomposition,\n",
    "        Random Fourier Features approximation and linear classification model.\n",
    "        \n",
    "        n_features, int: amount of synthetic random features generated with RFF approximation.\n",
    "\n",
    "        new_dim, int: PCA output size.\n",
    "        \n",
    "        use_PCA, bool: whether to include PCA preprocessing.\n",
    "        \n",
    "        classifier, string: either 'svm' or 'logreg', a linear classification model to use on top of pipeline.\n",
    "        \n",
    "        Feel free to edit this template for your preferences.    \n",
    "        \"\"\"\n",
    "        self.n_features = n_features\n",
    "        self.use_PCA = use_PCA\n",
    "        self.new_dim = new_dim\n",
    "        self.classifier = classifier\n",
    "        \n",
    "    def fit(self, X, y):\n",
    "        \"\"\"\n",
    "        Fit all parts of algorithm (PCA, RFF, Classification) to training set.\n",
    "        \"\"\"\n",
    "        # Your code here: (￣▽￣)/♫•*¨*•.¸¸♪\n",
    "\n",
    "        # 1-st step. PCA \n",
    "        \n",
    "        if self.use_PCA==True:\n",
    "            self.sc = StandardScaler()\n",
    "            X_std = self.sc.fit_transform(X)\n",
    "            self.pca = PCA(n_components=self.new_dim)\n",
    "            X_pca = self.pca.fit_transform(X_std)\n",
    "            self.X_pca = X_pca\n",
    "        else:\n",
    "            self.X_pca = X\n",
    "\n",
    "        # 2-nd step. sigma\n",
    "\n",
    "        var_hat_all = np.zeros(10**6)\n",
    "        for par in range(10**6):\n",
    "            i, j = np.random.randint(low=0, high=self.X_pca.shape[0], size=2)\n",
    "\n",
    "            while i-j == 0:\n",
    "              i, j = np.random.randint(low=0, high=self.X_pca.shape[0], size=2)\n",
    "  \n",
    "\n",
    "            res = np.sum((self.X_pca[i,:] - self.X_pca[j,:]) ** 2)\n",
    "            var_hat_all[par] = res\n",
    "            \n",
    "        est_med = np.median(var_hat_all)\n",
    "        self.est_med = est_med\n",
    "\n",
    "\n",
    "        # 3-d step. generating b, W\n",
    "        \n",
    "        b = np.random.uniform(-np.pi, np.pi, size=self.n_features)\n",
    "        \n",
    "        W = np.zeros((self.X_pca.shape[1], self.n_features))\n",
    "        W[:,:] = np.random.normal(loc=0, scale=np.sqrt(1/self.est_med), size=(self.X_pca.shape[1], self.n_features))\n",
    "\n",
    "        self.W = W\n",
    "        self.b = b\n",
    "\n",
    "        # 4-th step. cos \n",
    "\n",
    "\n",
    "        new_x = np.cos(self.X_pca.dot(self.W) + self.b)\n",
    "\n",
    "\n",
    "        self.sc_new = StandardScaler()\n",
    "        new_x = self.sc_new.fit_transform(new_x)\n",
    "\n",
    "        self.new_x = new_x\n",
    "\n",
    "\n",
    "        # 5-th step. Fitting SGD\n",
    "\n",
    "\n",
    "        if self.classifier == 'SGD':\n",
    "            clf = SGDClassifier()\n",
    "            clf.fit(self.new_x, y)\n",
    "            self.clf = clf\n",
    "        \n",
    "        return self.clf\n",
    "\n",
    "\n",
    "    def predict_proba(self, X):\n",
    "        \"\"\"\n",
    "        Apply pipeline to obtain scores for input data.\n",
    "        \"\"\"\n",
    "        if self.use_PCA==True:\n",
    "            X_test_std = self.sc.transform(X)\n",
    "            X_test_pca = self.pca.transform(X_test_std)\n",
    "            self.X_test_pca = X_test_pca\n",
    "        else:\n",
    "            self.X_test_pca = X\n",
    "\n",
    "        \n",
    "        new_x_test = np.cos(self.X_test_pca.dot(self.W) + self.b)\n",
    "\n",
    "\n",
    "        new_x_test = self.sc_new.transform(new_x_test)\n",
    "        pred_proba = self.clf.predict_proba(new_x_test)\n",
    "        \n",
    "        return pred_proba\n",
    "\n",
    "    def predict(self, X):\n",
    "        \"\"\"\n",
    "        Apply pipeline to obtain discrete predictions for input data.\n",
    "        \"\"\"\n",
    "        # Your code here: (￣▽￣)/♫•*¨*•.¸¸♪\n",
    "        \n",
    "        if self.use_PCA==True:\n",
    "            X_test_std = self.sc.transform(X)\n",
    "            X_test_pca = self.pca.transform(X_test_std)\n",
    "            self.X_test_pca = X_test_pca\n",
    "        else:\n",
    "            self.X_test_pca = X\n",
    "\n",
    "        new_x_test = np.cos(self.X_test_pca.dot(self.W) + self.b)    \n",
    "\n",
    "        new_x_test = self.sc_new.transform(new_x_test)\n",
    "        pred = self.clf.predict(new_x_test)\n",
    "        \n",
    "        return pred"
   ]
  },
  {
   "cell_type": "code",
   "execution_count": 243,
   "metadata": {
    "colab": {
     "base_uri": "https://localhost:8080/"
    },
    "id": "oRw1lLDfZxfZ",
    "outputId": "6c0f3b4f-c90c-4e53-86ae-ffebfbb02c99"
   },
   "outputs": [
    {
     "name": "stdout",
     "output_type": "stream",
     "text": [
      "--- 297.9759159088135 seconds (fit) ---\n",
      "--- 0.6072912216186523 seconds (predict) ---\n",
      "Accuracy LogReg: 0.8511\n"
     ]
    }
   ],
   "source": [
    "RFFPipe = RFFPipeline_SGD()\n",
    "\n",
    "\n",
    "start_time = time.time()\n",
    "RFFPipe.fit(x_train, y_train)\n",
    "print(\"--- %s seconds (fit) ---\" % (time.time() - start_time))\n",
    "\n",
    "\n",
    "start_time = time.time()\n",
    "preds = RFFPipe.predict(x_test)\n",
    "print(\"--- %s seconds (predict) ---\" % (time.time() - start_time))\n",
    "\n",
    "\n",
    "print('Accuracy SGD: {}'.format(accuracy_score(y_test, preds)))"
   ]
  },
  {
   "cell_type": "markdown",
   "metadata": {},
   "source": [
    "#### Качество ниже, чем в RFF (logreg), но выше, чем в RFF (SVM)."
   ]
  }
 ],
 "metadata": {
  "accelerator": "GPU",
  "colab": {
   "collapsed_sections": [],
   "name": "Копия блокнота \"homework-practice-08-random-features.ipynb\"",
   "provenance": []
  },
  "kernelspec": {
   "display_name": "Python 3",
   "language": "python",
   "name": "python3"
  },
  "language_info": {
   "codemirror_mode": {
    "name": "ipython",
    "version": 3
   },
   "file_extension": ".py",
   "mimetype": "text/x-python",
   "name": "python",
   "nbconvert_exporter": "python",
   "pygments_lexer": "ipython3",
   "version": "3.6.8"
  }
 },
 "nbformat": 4,
 "nbformat_minor": 1
}
